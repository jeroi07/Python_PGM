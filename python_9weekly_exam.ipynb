{
  "nbformat": 4,
  "nbformat_minor": 0,
  "metadata": {
    "colab": {
      "provenance": [],
      "authorship_tag": "ABX9TyOGSZYMBwYHqrp3P5BePum1",
      "include_colab_link": true
    },
    "kernelspec": {
      "name": "python3",
      "display_name": "Python 3"
    },
    "language_info": {
      "name": "python"
    }
  },
  "cells": [
    {
      "cell_type": "markdown",
      "metadata": {
        "id": "view-in-github",
        "colab_type": "text"
      },
      "source": [
        "<a href=\"https://colab.research.google.com/github/jeroi07/Python_PGM/blob/main/python_9weekly_exam.ipynb\" target=\"_parent\"><img src=\"https://colab.research.google.com/assets/colab-badge.svg\" alt=\"Open In Colab\"/></a>"
      ]
    },
    {
      "cell_type": "code",
      "execution_count": 10,
      "metadata": {
        "colab": {
          "base_uri": "https://localhost:8080/"
        },
        "id": "ARRxcOYubUBy",
        "outputId": "6e2508f9-a3fa-41f3-adf7-362e6a2978e3"
      },
      "outputs": [
        {
          "output_type": "stream",
          "name": "stdout",
          "text": [
            "[1, 2, 3, 4, 5]\n",
            "[1, 3, 5]\n",
            "['i', 'love', 'python', 'soooooo', 'much!!!']\n",
            "[(1, 1), (1, 2), (2, 1), (2, 2), (3, 1), (3, 2)]\n",
            "{'s': 1, 'l': 1, 't': 2, 'e': 2, 'r': 1}\n",
            "{1, 4}\n",
            "8\n",
            "{'Monday': 'Lundi', 'Tuesday': 'Mardi', 'Wednesday': 'Mercredi'}\n",
            "Hello, world!\n"
          ]
        }
      ],
      "source": [
        "#1부터 5까지의 정수 리스트 만들기\n",
        "number_list = []\n",
        "for number in range(1, 6):\n",
        "    number_list.append(number)\n",
        "print(number_list)\n",
        "\n",
        "#조건 적용\n",
        "odd_list = [number for number in range(1, 6) if number % 2 == 1]\n",
        "print(odd_list)\n",
        "\n",
        "#문장 출력\n",
        "sentence = ['I', 'Love', 'Python', 'Soooooo', 'MUCH!!!']\n",
        "lowercase_sentence = [word.lower() for word in sentence]\n",
        "print(lowercase_sentence)\n",
        "\n",
        "#리스트 작성\n",
        "rows = range(1, 4)\n",
        "cols = range(1, 3)\n",
        "\n",
        "cells = [(row, col) for row in rows for col in cols]\n",
        "print(cells)\n",
        "\n",
        "#Dictionary Comprehension\n",
        "word = 'letters'\n",
        "letter_counts = {letter: word.count(letter) for letter in set(word)}\n",
        "print(letter_counts)\n",
        "\n",
        "#Set Comprehension\n",
        "a_set = {number for number in range(1, 6) if number % 3 == 1}\n",
        "print(a_set)\n",
        "\n",
        "#덧셈 함수\n",
        "def add(a, b):\n",
        "    return a + b\n",
        "print(add(3, 5))\n",
        "\n",
        "#ZIP\n",
        "english = ['Monday', 'Tuesday', 'Wednesday']\n",
        "fruits = ['banana', 'orange', 'peach']\n",
        "drinks = ['coffee', 'tea', 'beer']\n",
        "desserts = ['tiramisu', 'ice cream', 'pie', 'pudding']\n",
        "\n",
        "dictionary = dict(zip(english, french))\n",
        "print(dictionary)\n",
        "\n",
        "#MAIN\n",
        "def hello():\n",
        "    print(\"Hello, world!\")\n",
        "\n",
        "if __name__ == \"__main__\":\n",
        "    hello()\n"
      ]
    }
  ]
}