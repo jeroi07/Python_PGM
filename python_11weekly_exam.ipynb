{
  "nbformat": 4,
  "nbformat_minor": 0,
  "metadata": {
    "colab": {
      "provenance": [],
      "authorship_tag": "ABX9TyOXU/ZxpEw1oe9veYC3EKsm",
      "include_colab_link": true
    },
    "kernelspec": {
      "name": "python3",
      "display_name": "Python 3"
    },
    "language_info": {
      "name": "python"
    }
  },
  "cells": [
    {
      "cell_type": "markdown",
      "metadata": {
        "id": "view-in-github",
        "colab_type": "text"
      },
      "source": [
        "<a href=\"https://colab.research.google.com/github/jeroi07/Python_PGM/blob/main/python_11weekly_exam.ipynb\" target=\"_parent\"><img src=\"https://colab.research.google.com/assets/colab-badge.svg\" alt=\"Open In Colab\"/></a>"
      ]
    },
    {
      "cell_type": "code",
      "execution_count": 38,
      "metadata": {
        "colab": {
          "base_uri": "https://localhost:8080/"
        },
        "id": "w6VY8f4nuPsw",
        "outputId": "24a21bf8-b12b-4d10-f976-ed5a8c83827e"
      },
      "outputs": [
        {
          "output_type": "execute_result",
          "data": {
            "text/plain": [
              "(3, 2, 4)"
            ]
          },
          "metadata": {},
          "execution_count": 38
        }
      ],
      "source": [
        "#How to import NumPy\n",
        "import numpy as np\n",
        "#Reading the example code\n",
        "#Array fundamentals\n",
        "a = np.array([[1, 2, 3],\n",
        "              [4, 5, 6]])\n",
        "a.shape\n",
        "\n",
        "a = np.array([1, 2, 3, 4, 5, 6])\n",
        "a\n",
        "a[0]\n",
        "\n",
        "\n",
        "a[0] = 10\n",
        "a\n",
        "\n",
        "a[:3]\n",
        "\n",
        "b = a[3:]\n",
        "b\n",
        "b[0] = 40\n",
        "a\n",
        "\n",
        "a = np.array([[1, 2, 3, 4], [5, 6, 7, 8], [9, 10, 11, 12]])\n",
        "a\n",
        "\n",
        "a[1, 3]\n",
        "\n",
        "\n",
        "#Array attributes\n",
        "a.ndim\n",
        "\n",
        "a.shape\n",
        "len(a.shape) == a.ndim\n",
        "\n",
        "a.dtype\n",
        "\n",
        "#How to create a basic array\n",
        "np.zeros(2)\n",
        "\n",
        "# Create an empty array with 2 elements\n",
        "np.empty(2)\n",
        "\n",
        "# Create an empty array with 2 elements\n",
        "np.empty(2)\n",
        "\n",
        "np.arange(4)\n",
        "#the first number, last number, and the step size.\n",
        "np.arange(2, 9, 2)\n",
        "\n",
        "np.linspace(0, 10, num=5)\n",
        "\n",
        "x = np.ones(2, dtype=np.int64)\n",
        "x\n",
        "\n",
        "#Adding, removing, and sorting elements\n",
        "arr = np.array([2, 1, 5, 3, 7, 4, 6, 8])\n",
        "np.sort(arr)\n",
        "\n",
        "#분류\n",
        "a = np.array([1, 2, 3, 4])\n",
        "b = np.array([5, 6, 7, 8])\n",
        "np.concatenate((a, b))\n",
        "x = np.array([[1, 2], [3, 4]])\n",
        "y = np.array([[5, 6]])\n",
        "np.concatenate((x, y), axis=0)\n",
        "\n",
        "#How do you know the shape and size of an array?\n",
        "array_example = np.array([[[0, 1, 2, 3],\n",
        "                           [4, 5, 6, 7]],\n",
        "                          [[0, 1, 2, 3],\n",
        "                           [4, 5, 6, 7]],\n",
        "                          [[0 ,1 ,2, 3],\n",
        "                           [4, 5, 6, 7]]])\n",
        "array_example.ndim\n",
        "array_example.size\n",
        "array_example.shape"
      ]
    },
    {
      "cell_type": "code",
      "source": [],
      "metadata": {
        "id": "NCKfOv4evao-"
      },
      "execution_count": 13,
      "outputs": []
    }
  ]
}